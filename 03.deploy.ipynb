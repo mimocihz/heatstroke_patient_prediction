{
  "cells": [
    {
      "metadata": {
        "collapsed": true
      },
      "cell_type": "markdown",
      "source": "# 熱中症患者数予測\n#### 気象データから熱中症患者数を予測する回帰モデルを作成する"
    },
    {
      "metadata": {},
      "cell_type": "markdown",
      "source": "### 03.deploy.ipynb\nWebサービスへのデプロイ・推論"
    },
    {
      "metadata": {
        "trusted": true
      },
      "cell_type": "code",
      "source": "import azureml\nfrom azureml.core import Workspace, Run\n\nprint(\"Azure ML SDK Version: \", azureml.core.VERSION)",
      "execution_count": 1,
      "outputs": [
        {
          "output_type": "stream",
          "text": "Azure ML SDK Version:  1.0.57\n",
          "name": "stdout"
        }
      ]
    },
    {
      "metadata": {},
      "cell_type": "markdown",
      "source": "## 1. スコアリングスクリプトの作成(score.py)"
    },
    {
      "metadata": {
        "trusted": true
      },
      "cell_type": "code",
      "source": "%%writefile score.py\nimport json\nimport numpy as np\nimport pandas as pd\nimport os\nimport pickle\nfrom sklearn.externals import joblib\nfrom sklearn.linear_model import LogisticRegression\n\nfrom azureml.core.model import Model\nimport azureml.train.automl\n\ndef init():\n    global model\n    # retrieve the path to the model file using the model name\n    model_path = Model.get_model_path('heatstroke_model')\n    model = joblib.load(model_path)\ndef run(raw_data):\n    data = pd.read_json(json.loads(raw_data)['data'])\n    y_hat = model.predict(data)   \n    \n    return y_hat.tolist()",
      "execution_count": 2,
      "outputs": [
        {
          "output_type": "stream",
          "text": "Overwriting score.py\n",
          "name": "stdout"
        }
      ]
    },
    {
      "metadata": {},
      "cell_type": "markdown",
      "source": "## 2. Dockerイメージの準備"
    },
    {
      "metadata": {},
      "cell_type": "markdown",
      "source": "### Docker用環境ファイルの作成"
    },
    {
      "metadata": {
        "trusted": true
      },
      "cell_type": "code",
      "source": "from azureml.core.conda_dependencies import CondaDependencies\n\nmyenv = CondaDependencies.create(\n    conda_packages=['numpy','pandas','scikit-learn'],\n    pip_packages=['azureml-sdk[automl]'])\n\nconda_env_file_name = 'myenv.yml'\nmyenv.save_to_file('.', conda_env_file_name)\n\nwith open(\"myenv.yml\", \"w\") as f:\n    f.write(myenv.serialize_to_string())",
      "execution_count": 3,
      "outputs": []
    },
    {
      "metadata": {},
      "cell_type": "markdown",
      "source": "### 環境ファイルの中身確認"
    },
    {
      "metadata": {
        "trusted": true
      },
      "cell_type": "code",
      "source": "with open(\"myenv.yml\", \"r\") as f:\n    print(f.read())",
      "execution_count": 4,
      "outputs": [
        {
          "output_type": "stream",
          "text": "# Conda environment specification. The dependencies defined in this file will\n# be automatically provisioned for runs with userManagedDependencies=False.\n\n# Details about the Conda environment file format:\n# https://conda.io/docs/user-guide/tasks/manage-environments.html#create-env-file-manually\n\nname: project_environment\ndependencies:\n  # The python interpreter version.\n  # Currently Azure ML only supports 3.5.2 and later.\n- python=3.6.2\n\n- pip:\n  - azureml-sdk[automl]==1.0.57.*\n- numpy\n- pandas\n- scikit-learn\nchannels:\n- conda-forge\n\n",
          "name": "stdout"
        }
      ]
    },
    {
      "metadata": {},
      "cell_type": "markdown",
      "source": "### Dockerイメージを作成"
    },
    {
      "metadata": {
        "trusted": true
      },
      "cell_type": "code",
      "source": "from azureml.core.model import Model\nws = Workspace.from_config()\nmodel = Model(ws, \"heatstroke_model\")\nprint(model.name)",
      "execution_count": 5,
      "outputs": [
        {
          "output_type": "stream",
          "text": "Performing interactive authentication. Please follow the instructions on the terminal.\nTo sign in, use a web browser to open the page https://microsoft.com/devicelogin and enter the code FW4LXLQYW to authenticate.\nInteractive authentication successfully completed.\nheatstroke_model\n",
          "name": "stdout"
        }
      ]
    },
    {
      "metadata": {},
      "cell_type": "markdown",
      "source": "↓こちらの実行完了には、少しお時間かかります。"
    },
    {
      "metadata": {
        "trusted": true
      },
      "cell_type": "code",
      "source": "%%time\nfrom azureml.core.image import Image, ContainerImage\n\n# configure the image\nimage_config = ContainerImage.image_configuration(execution_script=\"score.py\", \n                                                  runtime=\"python\", \n                                                  conda_file=\"myenv.yml\")\n\nimage = Image.create(name = \"heatstroke-image\",\n                              models = [model], # this is the registered model object\n                              image_config = image_config,\n                              workspace = ws)\n\nimage.wait_for_creation(show_output = True)",
      "execution_count": 6,
      "outputs": [
        {
          "output_type": "stream",
          "text": "Creating image\nRunning.............................................................................................\nSucceeded\nImage creation operation finished for image heatstroke-image:4, operation \"Succeeded\"\nCPU times: user 793 ms, sys: 726 ms, total: 1.52 s\nWall time: 8min 20s\n",
          "name": "stdout"
        }
      ]
    },
    {
      "metadata": {},
      "cell_type": "markdown",
      "source": "## 3. Azure Container Instance(ACI)へのデプロイ"
    },
    {
      "metadata": {},
      "cell_type": "markdown",
      "source": "### ACI用環境ファイルの作成"
    },
    {
      "metadata": {
        "trusted": true
      },
      "cell_type": "code",
      "source": "from azureml.core.webservice import AciWebservice, Webservice\n\n# 構成\naciconfig = AciWebservice.deploy_configuration(cpu_cores=1,\n                                               memory_gb=8,\n                                               tags={\"data\": \"heatstroke\",\n                                                     \"method\": \"automl\"},\n                                               description='Heatstroke patient prediction Model')",
      "execution_count": 7,
      "outputs": []
    },
    {
      "metadata": {},
      "cell_type": "markdown",
      "source": "### DockerイメージをACIにデプロイ\n↓こちらの実行完了には、少しお時間かかります。\n※nameの値は、イメージ名であり、既に作っている名前と同じ名前は作ることができません。"
    },
    {
      "metadata": {
        "trusted": true
      },
      "cell_type": "code",
      "source": "%%time\nservice = Webservice.deploy_from_image(workspace=ws,\n                                       name='automl-heatstroke-prediction00',\n                                       deployment_config=aciconfig,\n                                       image=image)\n\nservice.wait_for_deployment(show_output=True)\nprint(service.state)",
      "execution_count": 9,
      "outputs": [
        {
          "output_type": "stream",
          "text": "Creating service\nRunning...........................\nSucceededACI service creation operation finished, operation \"Succeeded\"\nHealthy\nCPU times: user 319 ms, sys: 141 ms, total: 460 ms\nWall time: 2min 29s\n",
          "name": "stdout"
        }
      ]
    },
    {
      "metadata": {},
      "cell_type": "markdown",
      "source": "### WebサービスのURLを取得"
    },
    {
      "metadata": {},
      "cell_type": "markdown",
      "source": "↓実行後、出力されたURLにアクセスしてみてください。"
    },
    {
      "metadata": {
        "trusted": true
      },
      "cell_type": "code",
      "source": "print(service.scoring_uri)",
      "execution_count": 10,
      "outputs": [
        {
          "output_type": "stream",
          "text": "http://1e012f3a-ea73-4513-81c2-e357c60b5a8d.westus.azurecontainer.io/score\n",
          "name": "stdout"
        }
      ]
    },
    {
      "metadata": {},
      "cell_type": "markdown",
      "source": "## 4. 生の HTTP 要求を送信して Web サービスをテスト"
    },
    {
      "metadata": {},
      "cell_type": "markdown",
      "source": "### 2019年のデータを用いて、搬送人員（計）を予測"
    },
    {
      "metadata": {
        "trusted": true
      },
      "cell_type": "code",
      "source": "import requests\nimport pandas as pd\nimport io\nimport json\n\ndf_test = pd.read_csv('./data/Heatstroke_patient_prediction_predict_data.csv')\n\nX_score = df_test.drop([\"年月日\",\"年\",\"月\",\"搬送人員（計）\"], axis=1)\ntest_samples1 = json.dumps({\"data\":  X_score.to_json()})\nheaders = {'Content-Type': 'application/json'}\nresp_str = requests.post(service.scoring_uri, test_samples1, headers=headers)\n\nresp_json = json.dumps({\"data\":  resp_str.text})\n\ndf_purpose = pd.read_json(json.loads(resp_json)['data'])\ndf_purpose.columns = [\"搬送人員（計）\"]\ndf_purpose",
      "execution_count": 1,
      "outputs": [
        {
          "output_type": "error",
          "ename": "NameError",
          "evalue": "name 'service' is not defined",
          "traceback": [
            "\u001b[0;31m---------------------------------------------------------------------------\u001b[0m",
            "\u001b[0;31mNameError\u001b[0m                                 Traceback (most recent call last)",
            "\u001b[0;32m<ipython-input-1-2121c5a5ad14>\u001b[0m in \u001b[0;36m<module>\u001b[0;34m\u001b[0m\n\u001b[1;32m      9\u001b[0m \u001b[0mtest_samples1\u001b[0m \u001b[0;34m=\u001b[0m \u001b[0mjson\u001b[0m\u001b[0;34m.\u001b[0m\u001b[0mdumps\u001b[0m\u001b[0;34m(\u001b[0m\u001b[0;34m{\u001b[0m\u001b[0;34m\"data\"\u001b[0m\u001b[0;34m:\u001b[0m  \u001b[0mX_score\u001b[0m\u001b[0;34m.\u001b[0m\u001b[0mto_json\u001b[0m\u001b[0;34m(\u001b[0m\u001b[0;34m)\u001b[0m\u001b[0;34m}\u001b[0m\u001b[0;34m)\u001b[0m\u001b[0;34m\u001b[0m\u001b[0m\n\u001b[1;32m     10\u001b[0m \u001b[0mheaders\u001b[0m \u001b[0;34m=\u001b[0m \u001b[0;34m{\u001b[0m\u001b[0;34m'Content-Type'\u001b[0m\u001b[0;34m:\u001b[0m \u001b[0;34m'application/json'\u001b[0m\u001b[0;34m}\u001b[0m\u001b[0;34m\u001b[0m\u001b[0m\n\u001b[0;32m---> 11\u001b[0;31m \u001b[0mresp_str\u001b[0m \u001b[0;34m=\u001b[0m \u001b[0mrequests\u001b[0m\u001b[0;34m.\u001b[0m\u001b[0mpost\u001b[0m\u001b[0;34m(\u001b[0m\u001b[0mservice\u001b[0m\u001b[0;34m.\u001b[0m\u001b[0mscoring_uri\u001b[0m\u001b[0;34m,\u001b[0m \u001b[0mtest_samples1\u001b[0m\u001b[0;34m,\u001b[0m \u001b[0mheaders\u001b[0m\u001b[0;34m=\u001b[0m\u001b[0mheaders\u001b[0m\u001b[0;34m)\u001b[0m\u001b[0;34m\u001b[0m\u001b[0m\n\u001b[0m\u001b[1;32m     12\u001b[0m \u001b[0;34m\u001b[0m\u001b[0m\n\u001b[1;32m     13\u001b[0m \u001b[0mresp_json\u001b[0m \u001b[0;34m=\u001b[0m \u001b[0mjson\u001b[0m\u001b[0;34m.\u001b[0m\u001b[0mdumps\u001b[0m\u001b[0;34m(\u001b[0m\u001b[0;34m{\u001b[0m\u001b[0;34m\"data\"\u001b[0m\u001b[0;34m:\u001b[0m  \u001b[0mresp_str\u001b[0m\u001b[0;34m.\u001b[0m\u001b[0mtext\u001b[0m\u001b[0;34m}\u001b[0m\u001b[0;34m)\u001b[0m\u001b[0;34m\u001b[0m\u001b[0m\n",
            "\u001b[0;31mNameError\u001b[0m: name 'service' is not defined"
          ]
        }
      ]
    },
    {
      "metadata": {},
      "cell_type": "markdown",
      "source": "## 5. ローカルディレクトリ・Azure Blob Storageへ推論結果を格納"
    },
    {
      "metadata": {},
      "cell_type": "markdown",
      "source": "### 説明変数と推論結果をファイルに書き出し"
    },
    {
      "metadata": {
        "trusted": true
      },
      "cell_type": "code",
      "source": "df_nonTrans = df_test.drop([\"搬送人員（計）\"], axis=1)\n\ndf_true = pd.concat([df_nonTrans,df_purpose],axis=1)\ndf_true\ndata_path = \"./data/Heatstroke_patient_prediction_output.csv\"\ndf.to_csv(data_path)",
      "execution_count": null,
      "outputs": []
    },
    {
      "metadata": {},
      "cell_type": "markdown",
      "source": "### Azure Blob Storageに格納"
    },
    {
      "metadata": {
        "trusted": true
      },
      "cell_type": "code",
      "source": "ds = ws.get_default_datastore()\nprint(f\"{ds.name}\\n{ds.datastore_type}\\n{ds.account_name}\\n{ds.container_name}\\n{ds.account_key}\")\nds.upload_files([data_path],overwrite=True)",
      "execution_count": null,
      "outputs": []
    },
    {
      "metadata": {},
      "cell_type": "markdown",
      "source": "## 5. リソースのクリーンアップ"
    },
    {
      "metadata": {
        "trusted": true
      },
      "cell_type": "code",
      "source": "service.delete()",
      "execution_count": null,
      "outputs": []
    }
  ],
  "metadata": {
    "kernelspec": {
      "name": "python36",
      "display_name": "Python 3.6",
      "language": "python"
    },
    "language_info": {
      "mimetype": "text/x-python",
      "nbconvert_exporter": "python",
      "name": "python",
      "pygments_lexer": "ipython3",
      "version": "3.6.6",
      "file_extension": ".py",
      "codemirror_mode": {
        "version": 3,
        "name": "ipython"
      }
    }
  },
  "nbformat": 4,
  "nbformat_minor": 2
}