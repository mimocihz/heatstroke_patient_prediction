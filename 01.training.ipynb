{
  "cells": [
    {
      "metadata": {},
      "cell_type": "markdown",
      "source": "# 熱中症患者数予測\n#### 気象データから熱中症患者数を予測する回帰モデルを作成する"
    },
    {
      "metadata": {},
      "cell_type": "markdown",
      "source": "### 01.training.ipynb\n学習データの読み込み・加工・モデルの学習"
    },
    {
      "metadata": {},
      "cell_type": "markdown",
      "source": "### 【実行必須】 前章の復習`00.setup.ipynb`"
    },
    {
      "metadata": {
        "trusted": true
      },
      "cell_type": "code",
      "source": "import azureml\nfrom azureml.core import Workspace, Run\nfrom azureml.core import Experiment\nimport os\nimport pandas as pd\n\nprint(\"Azure ML SDK Version: \", azureml.core.VERSION)\n\nws = Workspace.from_config()\nprint(ws.name, ws.location, ws.resource_group, ws.location, sep = '\\t')\n\nexperiment_name = 'Heatstroke_patient_prediction'\nexp = Experiment(workspace=ws, name=experiment_name)\n\nproject_folder = './sample_projects/Heatstroke_patient_prediction'\noutput = {}\noutput['SDK version'] = azureml.core.VERSION\noutput['Subscription ID'] = ws.subscription_id\noutput['Workspace Name'] = ws.name\noutput['Resource Group'] = ws.resource_group\noutput['Location'] = ws.location\noutput['Project Directory'] = project_folder\noutput['Experiment Name'] = exp.name\npd.set_option('display.max_colwidth', -1)\noutputDf = pd.DataFrame(data = output, index = [''])\noutputDf.T",
      "execution_count": 2,
      "outputs": [
        {
          "output_type": "stream",
          "text": "Azure ML SDK Version:  1.0.57\nazmls\tjapaneast\tdata-hack\tjapaneast\n",
          "name": "stdout"
        },
        {
          "output_type": "execute_result",
          "execution_count": 2,
          "data": {
            "text/html": "<div>\n<style scoped>\n    .dataframe tbody tr th:only-of-type {\n        vertical-align: middle;\n    }\n\n    .dataframe tbody tr th {\n        vertical-align: top;\n    }\n\n    .dataframe thead th {\n        text-align: right;\n    }\n</style>\n<table border=\"1\" class=\"dataframe\">\n  <thead>\n    <tr style=\"text-align: right;\">\n      <th></th>\n      <th></th>\n    </tr>\n  </thead>\n  <tbody>\n    <tr>\n      <th>SDK version</th>\n      <td>1.0.57</td>\n    </tr>\n    <tr>\n      <th>Subscription ID</th>\n      <td>f8e38435-13b5-4b97-96c4-39b3bc918c54</td>\n    </tr>\n    <tr>\n      <th>Workspace Name</th>\n      <td>azmls</td>\n    </tr>\n    <tr>\n      <th>Resource Group</th>\n      <td>data-hack</td>\n    </tr>\n    <tr>\n      <th>Location</th>\n      <td>japaneast</td>\n    </tr>\n    <tr>\n      <th>Project Directory</th>\n      <td>./sample_projects/Heatstroke_patient_prediction</td>\n    </tr>\n    <tr>\n      <th>Experiment Name</th>\n      <td>Heatstroke_patient_prediction</td>\n    </tr>\n  </tbody>\n</table>\n</div>",
            "text/plain": "                                                                  \nSDK version        1.0.57                                         \nSubscription ID    f8e38435-13b5-4b97-96c4-39b3bc918c54           \nWorkspace Name     azmls                                          \nResource Group     data-hack                                      \nLocation           japaneast                                      \nProject Directory  ./sample_projects/Heatstroke_patient_prediction\nExperiment Name    Heatstroke_patient_prediction                  "
          },
          "metadata": {}
        }
      ]
    },
    {
      "metadata": {},
      "cell_type": "markdown",
      "source": "## 1. トレーニング実行用の ML Compute 作成"
    },
    {
      "metadata": {
        "trusted": true
      },
      "cell_type": "code",
      "source": "from azureml.core.compute import ComputeTarget, AmlCompute\nfrom azureml.core.compute_target import ComputeTargetException\n\ncluster_name = \"cpucluster\"\n\ntry:\n    cluster = ComputeTarget(workspace=ws, name=cluster_name)\n    print('Found existing cluster, use it.')\nexcept ComputeTargetException:\n    compute_config = AmlCompute.provisioning_configuration(vm_size='STANDARD_D4_V2', #'Standard_NC6'\n                                                           min_nodes=0,\n                                                           max_nodes=8)\n    cluster = ComputeTarget.create(ws, cluster_name, compute_config)\n\ncluster.wait_for_completion(show_output=True)",
      "execution_count": 3,
      "outputs": [
        {
          "output_type": "stream",
          "text": "Found existing cluster, use it.\nSucceeded\nAmlCompute wait for completion finished\nMinimum number of nodes requested have been provisioned\n",
          "name": "stdout"
        }
      ]
    },
    {
      "metadata": {
        "collapsed": true
      },
      "cell_type": "markdown",
      "source": "## 2. トレーニングデータをAzure Blob Storageにアップロード"
    },
    {
      "metadata": {
        "trusted": true
      },
      "cell_type": "code",
      "source": "import pandas as pd\ndf = pd.read_csv('./data/Heatstroke_patient_prediction_train_data.csv')\ndf.head(10)",
      "execution_count": 4,
      "outputs": [
        {
          "output_type": "execute_result",
          "execution_count": 4,
          "data": {
            "text/html": "<div>\n<style scoped>\n    .dataframe tbody tr th:only-of-type {\n        vertical-align: middle;\n    }\n\n    .dataframe tbody tr th {\n        vertical-align: top;\n    }\n\n    .dataframe thead th {\n        text-align: right;\n    }\n</style>\n<table border=\"1\" class=\"dataframe\">\n  <thead>\n    <tr style=\"text-align: right;\">\n      <th></th>\n      <th>年月日</th>\n      <th>搬送人員（計）</th>\n      <th>最高気温(℃)</th>\n      <th>平均気温(℃)</th>\n      <th>最低気温(℃)</th>\n      <th>日照時間(時間)</th>\n      <th>平均風速(m/s)</th>\n      <th>平均雲量(10分比)</th>\n      <th>平均湿度(％)</th>\n      <th>降水量の合計(mm)</th>\n      <th>...</th>\n      <th>m前日最高気温との差</th>\n      <th>m前日平均気温との差</th>\n      <th>m前日最低気温との差</th>\n      <th>m最高気温移動平均(5日間)</th>\n      <th>m平均気温移動平均(5日間)</th>\n      <th>m体感温度移動平均(5日間)</th>\n      <th>m不快指数移動平均(5日間)</th>\n      <th>m前日の搬送人数</th>\n      <th>m搬送人数移動平均(5日間)</th>\n      <th>年</th>\n    </tr>\n  </thead>\n  <tbody>\n    <tr>\n      <th>0</th>\n      <td>7/2/2008 12:00:00 AM</td>\n      <td>4</td>\n      <td>26.9</td>\n      <td>23.7</td>\n      <td>21.1</td>\n      <td>8.3</td>\n      <td>3.1</td>\n      <td>9.5</td>\n      <td>70</td>\n      <td>0.0</td>\n      <td>...</td>\n      <td>1.4</td>\n      <td>1.9</td>\n      <td>2.5</td>\n      <td>24.82</td>\n      <td>21.90</td>\n      <td>19.750477</td>\n      <td>69.154300</td>\n      <td>0</td>\n      <td>0.000000</td>\n      <td>2008</td>\n    </tr>\n    <tr>\n      <th>1</th>\n      <td>7/3/2008 12:00:00 AM</td>\n      <td>1</td>\n      <td>27.3</td>\n      <td>24.3</td>\n      <td>22.1</td>\n      <td>1.4</td>\n      <td>5.0</td>\n      <td>7.8</td>\n      <td>75</td>\n      <td>0.0</td>\n      <td>...</td>\n      <td>0.4</td>\n      <td>0.6</td>\n      <td>1.0</td>\n      <td>25.14</td>\n      <td>22.32</td>\n      <td>20.025609</td>\n      <td>69.813896</td>\n      <td>4</td>\n      <td>2.000000</td>\n      <td>2008</td>\n    </tr>\n    <tr>\n      <th>2</th>\n      <td>7/4/2008 12:00:00 AM</td>\n      <td>14</td>\n      <td>31.6</td>\n      <td>26.5</td>\n      <td>23.1</td>\n      <td>8.7</td>\n      <td>3.7</td>\n      <td>7.8</td>\n      <td>77</td>\n      <td>16.0</td>\n      <td>...</td>\n      <td>4.3</td>\n      <td>2.2</td>\n      <td>1.0</td>\n      <td>25.38</td>\n      <td>22.50</td>\n      <td>20.171603</td>\n      <td>70.182006</td>\n      <td>1</td>\n      <td>1.666667</td>\n      <td>2008</td>\n    </tr>\n    <tr>\n      <th>3</th>\n      <td>7/5/2008 12:00:00 AM</td>\n      <td>26</td>\n      <td>31.4</td>\n      <td>27.5</td>\n      <td>24.9</td>\n      <td>8.0</td>\n      <td>2.3</td>\n      <td>7.8</td>\n      <td>72</td>\n      <td>0.0</td>\n      <td>...</td>\n      <td>-0.2</td>\n      <td>1.0</td>\n      <td>1.8</td>\n      <td>27.20</td>\n      <td>23.60</td>\n      <td>22.279985</td>\n      <td>71.768756</td>\n      <td>14</td>\n      <td>4.750000</td>\n      <td>2008</td>\n    </tr>\n    <tr>\n      <th>4</th>\n      <td>7/6/2008 12:00:00 AM</td>\n      <td>15</td>\n      <td>30.7</td>\n      <td>27.0</td>\n      <td>24.7</td>\n      <td>4.2</td>\n      <td>2.5</td>\n      <td>10.0</td>\n      <td>76</td>\n      <td>0.0</td>\n      <td>...</td>\n      <td>-0.7</td>\n      <td>-0.5</td>\n      <td>-0.2</td>\n      <td>28.54</td>\n      <td>24.76</td>\n      <td>23.812901</td>\n      <td>73.535204</td>\n      <td>26</td>\n      <td>9.000000</td>\n      <td>2008</td>\n    </tr>\n    <tr>\n      <th>5</th>\n      <td>7/7/2008 12:00:00 AM</td>\n      <td>1</td>\n      <td>26.9</td>\n      <td>25.1</td>\n      <td>24.0</td>\n      <td>0.0</td>\n      <td>2.1</td>\n      <td>10.0</td>\n      <td>81</td>\n      <td>15.0</td>\n      <td>...</td>\n      <td>-3.8</td>\n      <td>-1.9</td>\n      <td>-0.7</td>\n      <td>29.58</td>\n      <td>25.80</td>\n      <td>25.127460</td>\n      <td>75.232920</td>\n      <td>15</td>\n      <td>12.000000</td>\n      <td>2008</td>\n    </tr>\n    <tr>\n      <th>6</th>\n      <td>7/8/2008 12:00:00 AM</td>\n      <td>1</td>\n      <td>26.5</td>\n      <td>24.1</td>\n      <td>22.8</td>\n      <td>0.3</td>\n      <td>3.0</td>\n      <td>10.0</td>\n      <td>80</td>\n      <td>1.0</td>\n      <td>...</td>\n      <td>-0.4</td>\n      <td>-1.0</td>\n      <td>-1.2</td>\n      <td>29.58</td>\n      <td>26.08</td>\n      <td>25.375582</td>\n      <td>75.885838</td>\n      <td>1</td>\n      <td>11.400000</td>\n      <td>2008</td>\n    </tr>\n    <tr>\n      <th>7</th>\n      <td>7/9/2008 12:00:00 AM</td>\n      <td>2</td>\n      <td>26.1</td>\n      <td>24.3</td>\n      <td>22.7</td>\n      <td>1.2</td>\n      <td>2.5</td>\n      <td>10.0</td>\n      <td>68</td>\n      <td>0.0</td>\n      <td>...</td>\n      <td>-0.4</td>\n      <td>0.2</td>\n      <td>-0.1</td>\n      <td>29.42</td>\n      <td>26.04</td>\n      <td>25.393262</td>\n      <td>75.919328</td>\n      <td>1</td>\n      <td>11.400000</td>\n      <td>2008</td>\n    </tr>\n    <tr>\n      <th>8</th>\n      <td>7/10/2008 12:00:00 AM</td>\n      <td>2</td>\n      <td>27.8</td>\n      <td>24.6</td>\n      <td>22.1</td>\n      <td>2.5</td>\n      <td>2.3</td>\n      <td>9.0</td>\n      <td>70</td>\n      <td>0.0</td>\n      <td>...</td>\n      <td>1.7</td>\n      <td>0.3</td>\n      <td>-0.6</td>\n      <td>28.32</td>\n      <td>25.60</td>\n      <td>24.053976</td>\n      <td>75.051890</td>\n      <td>2</td>\n      <td>9.000000</td>\n      <td>2008</td>\n    </tr>\n    <tr>\n      <th>9</th>\n      <td>7/11/2008 12:00:00 AM</td>\n      <td>6</td>\n      <td>29.4</td>\n      <td>26.0</td>\n      <td>23.5</td>\n      <td>5.5</td>\n      <td>3.1</td>\n      <td>8.8</td>\n      <td>71</td>\n      <td>0.0</td>\n      <td>...</td>\n      <td>1.6</td>\n      <td>1.4</td>\n      <td>1.4</td>\n      <td>27.60</td>\n      <td>25.02</td>\n      <td>23.196735</td>\n      <td>74.128450</td>\n      <td>2</td>\n      <td>4.200000</td>\n      <td>2008</td>\n    </tr>\n  </tbody>\n</table>\n<p>10 rows × 41 columns</p>\n</div>",
            "text/plain": "                     年月日  搬送人員（計）  最高気温(℃)  平均気温(℃)  最低気温(℃)  日照時間(時間)  \\\n0  7/2/2008 12:00:00 AM   4        26.9     23.7     21.1     8.3        \n1  7/3/2008 12:00:00 AM   1        27.3     24.3     22.1     1.4        \n2  7/4/2008 12:00:00 AM   14       31.6     26.5     23.1     8.7        \n3  7/5/2008 12:00:00 AM   26       31.4     27.5     24.9     8.0        \n4  7/6/2008 12:00:00 AM   15       30.7     27.0     24.7     4.2        \n5  7/7/2008 12:00:00 AM   1        26.9     25.1     24.0     0.0        \n6  7/8/2008 12:00:00 AM   1        26.5     24.1     22.8     0.3        \n7  7/9/2008 12:00:00 AM   2        26.1     24.3     22.7     1.2        \n8  7/10/2008 12:00:00 AM  2        27.8     24.6     22.1     2.5        \n9  7/11/2008 12:00:00 AM  6        29.4     26.0     23.5     5.5        \n\n   平均風速(m/s)  平均雲量(10分比)  平均湿度(％)  降水量の合計(mm)  ...   m前日最高気温との差  m前日平均気温との差  \\\n0  3.1        9.5         70       0.0         ...   1.4         1.9          \n1  5.0        7.8         75       0.0         ...   0.4         0.6          \n2  3.7        7.8         77       16.0        ...   4.3         2.2          \n3  2.3        7.8         72       0.0         ...  -0.2         1.0          \n4  2.5        10.0        76       0.0         ...  -0.7        -0.5          \n5  2.1        10.0        81       15.0        ...  -3.8        -1.9          \n6  3.0        10.0        80       1.0         ...  -0.4        -1.0          \n7  2.5        10.0        68       0.0         ...  -0.4         0.2          \n8  2.3        9.0         70       0.0         ...   1.7         0.3          \n9  3.1        8.8         71       0.0         ...   1.6         1.4          \n\n   m前日最低気温との差  m最高気温移動平均(5日間)  m平均気温移動平均(5日間)  m体感温度移動平均(5日間)  m不快指数移動平均(5日間)  \\\n0  2.5         24.82           21.90           19.750477       69.154300        \n1  1.0         25.14           22.32           20.025609       69.813896        \n2  1.0         25.38           22.50           20.171603       70.182006        \n3  1.8         27.20           23.60           22.279985       71.768756        \n4 -0.2         28.54           24.76           23.812901       73.535204        \n5 -0.7         29.58           25.80           25.127460       75.232920        \n6 -1.2         29.58           26.08           25.375582       75.885838        \n7 -0.1         29.42           26.04           25.393262       75.919328        \n8 -0.6         28.32           25.60           24.053976       75.051890        \n9  1.4         27.60           25.02           23.196735       74.128450        \n\n   m前日の搬送人数  m搬送人数移動平均(5日間)     年  \n0  0         0.000000        2008  \n1  4         2.000000        2008  \n2  1         1.666667        2008  \n3  14        4.750000        2008  \n4  26        9.000000        2008  \n5  15        12.000000       2008  \n6  1         11.400000       2008  \n7  1         11.400000       2008  \n8  2         9.000000        2008  \n9  2         4.200000        2008  \n\n[10 rows x 41 columns]"
          },
          "metadata": {}
        }
      ]
    },
    {
      "metadata": {
        "trusted": true
      },
      "cell_type": "code",
      "source": "ds = ws.get_default_datastore()\nprint(ds.name, ds.datastore_type, ds.account_name, ds.container_name)\nds.upload_files(['./data/Heatstroke_patient_prediction_train_data.csv'],overwrite=True)",
      "execution_count": 5,
      "outputs": [
        {
          "output_type": "stream",
          "text": "workspaceblobstore AzureBlob azmls1405322897 azureml-blobstore-5e66db71-88c8-45ad-9f28-9a6883032c4e\nUploading an estimated of 1 files\nUploading ./data/Heatstroke_patient_prediction_train_data.csv\nUploaded ./data/Heatstroke_patient_prediction_train_data.csv, 1 files out of an estimated total of 1\nUploaded 1 files\n",
          "name": "stdout"
        },
        {
          "output_type": "execute_result",
          "execution_count": 5,
          "data": {
            "text/plain": "$AZUREML_DATAREFERENCE_workspaceblobstore"
          },
          "metadata": {}
        }
      ]
    },
    {
      "metadata": {},
      "cell_type": "markdown",
      "source": "## 3. Automated ML 機能を使って予測モデルを作成"
    },
    {
      "metadata": {},
      "cell_type": "markdown",
      "source": "### モデル学習用スクリプト作成"
    },
    {
      "metadata": {
        "trusted": true
      },
      "cell_type": "code",
      "source": "%%writefile $project_folder/get_data.py\n\nimport numpy as np\nfrom azure.storage.blob import BlockBlobService\nimport pandas as pd\nimport os.path\n\ndef get_data():\n    file_name = \"Heatstroke_patient_prediction_train_data.csv\"\n    if not os.path.exists('./' + file_name) :\n        account_name='azmls1405322897'\n        account_key='0oGnArgZlzIs+YvO8bUoWFH61GXexPTFJoCWshh9xhdbGnLT0Khk6wZ5OpuZDkRe/BFDddcBK2rhVtkcTLnFHw=='\n        container_name='azureml-blobstore-5e66db71-88c8-45ad-9f28-9a6883032c4e'\n        blob_name=file_name\n        \n        service = BlockBlobService(account_name=account_name, account_key=account_key)\n        service.get_blob_to_path(container_name, blob_name, file_name)\n    \n    df = pd.read_csv('./' + file_name)\n    X_train = df.drop(columns=[\"年月日\",\"年\",\"月\",\"搬送人員（計）\"],axis=1)\n    y_df = df[\"搬送人員（計）\"]\n    y_train = y_df.values\n\n    return { \"X\" : X_train, \"y\" : y_train }",
      "execution_count": 6,
      "outputs": [
        {
          "output_type": "stream",
          "text": "Overwriting ./sample_projects/Heatstroke_patient_prediction/get_data.py\n",
          "name": "stdout"
        }
      ]
    },
    {
      "metadata": {},
      "cell_type": "markdown",
      "source": "### モデル学習実行環境定義"
    },
    {
      "metadata": {
        "trusted": true
      },
      "cell_type": "code",
      "source": "from azureml.core.runconfig import RunConfiguration\nfrom azureml.core.conda_dependencies import CondaDependencies\nfrom azureml.train.automl import AutoMLConfig\nimport logging\n\nrun_config = RunConfiguration(framework=\"python\")\n\nrun_config.target = cluster.name\n\nrun_config.environment.docker.enabled = True\nrun_config.environment.docker.base_image = azureml.core.runconfig.DEFAULT_CPU_IMAGE\n\nrun_config.environment.python.conda_dependencies = CondaDependencies.create(\n    conda_packages=['numpy','pandas'], \n    pip_packages=['azureml-sdk[automl]', 'azure-storage'])\n\n\nautomated_ml_config = AutoMLConfig(task = 'regression',\n                             primary_metric = 'normalized_mean_absolute_error',\n                             iteration_timeout_minutes = 10,\n                             iterations = 30,\n                             preprocess = True,\n                             verbosity = logging.INFO,\n                             experiment_exit_score = 0,\n                             path = project_folder,\n                             data_script = project_folder + \"/get_data.py\",\n                             run_configuration=run_config,\n                             debug_log = 'automated_ml_errors.log',\n                             n_cross_validations = 3,\n                             max_concurrent_iterations = 4)",
      "execution_count": 7,
      "outputs": []
    },
    {
      "metadata": {},
      "cell_type": "markdown",
      "source": "### Azure上に学習環境を構築"
    },
    {
      "metadata": {
        "trusted": true
      },
      "cell_type": "code",
      "source": "run_automl = exp.submit(automated_ml_config, show_output = False)\nrun_automl",
      "execution_count": 8,
      "outputs": [
        {
          "output_type": "execute_result",
          "execution_count": 8,
          "data": {
            "text/html": "<table style=\"width:100%\"><tr><th>Experiment</th><th>Id</th><th>Type</th><th>Status</th><th>Details Page</th><th>Docs Page</th></tr><tr><td>Heatstroke_patient_prediction</td><td>AutoML_2c1fff4b-703f-4351-bc91-a81a2d203f92</td><td>automl</td><td>Starting</td><td><a href=\"https://mlworkspace.azure.ai/portal/subscriptions/f8e38435-13b5-4b97-96c4-39b3bc918c54/resourceGroups/data-hack/providers/Microsoft.MachineLearningServices/workspaces/azmls/experiments/Heatstroke_patient_prediction/runs/AutoML_2c1fff4b-703f-4351-bc91-a81a2d203f92\" target=\"_blank\" rel=\"noopener\">Link to Azure Portal</a></td><td><a href=\"https://docs.microsoft.com/en-us/python/api/overview/azure/ml/intro?view=azure-ml-py\" target=\"_blank\" rel=\"noopener\">Link to Documentation</a></td></tr></table>",
            "text/plain": "Run(Experiment: Heatstroke_patient_prediction,\nId: AutoML_2c1fff4b-703f-4351-bc91-a81a2d203f92,\nType: automl,\nStatus: Starting)"
          },
          "metadata": {}
        }
      ]
    },
    {
      "metadata": {},
      "cell_type": "markdown",
      "source": "## 4. 学習を実行"
    },
    {
      "metadata": {
        "trusted": true
      },
      "cell_type": "code",
      "source": "from azureml.widgets import RunDetails\nRunDetails(run_automl).show()",
      "execution_count": 9,
      "outputs": [
        {
          "output_type": "display_data",
          "data": {
            "application/vnd.jupyter.widget-view+json": {
              "model_id": "ee9ca59089e344bdaab49adcc12a6047",
              "version_minor": 0,
              "version_major": 2
            },
            "text/plain": "_AutoMLWidget(widget_settings={'childWidgetDisplay': 'popup', 'send_telemetry': False, 'log_level': 'INFO', 's…"
          },
          "metadata": {}
        }
      ]
    },
    {
      "metadata": {
        "trusted": true
      },
      "cell_type": "code",
      "source": "%%time\n# Shows output of the run on stdout.\nrun_automl.wait_for_completion(show_output=True)",
      "execution_count": 10,
      "outputs": [
        {
          "output_type": "stream",
          "text": "\n****************************************************************************************************\nITERATION: The iteration being evaluated.\nPIPELINE: A summary description of the pipeline being evaluated.\nDURATION: Time taken for the current iteration.\nMETRIC: The result of computing score on the fitted pipeline.\nBEST: The best observed score thus far.\n****************************************************************************************************\n\n ITERATION   PIPELINE                                       DURATION      METRIC      BEST\n         3   StandardScalerWrapper ExtremeRandomTrees       0:01:03       0.0271    0.0271\n         2   StandardScalerWrapper RandomForest             0:02:57       0.0359    0.0271\n         1   StandardScalerWrapper ElasticNet               0:03:50       0.0388    0.0271\n         0   StandardScalerWrapper ElasticNet               0:02:00       0.0375    0.0271\n         7   MinMaxScaler RandomForest                      0:02:37       0.0264    0.0264\n         6   RobustScaler LassoLars                         0:02:35       0.0357    0.0264\n         5   MinMaxScaler DecisionTree                      0:04:25       0.0312    0.0264\n         4   StandardScalerWrapper DecisionTree             0:03:35       0.0329    0.0264\n         9   StandardScalerWrapper DecisionTree             0:01:41       0.0355    0.0264\n         8   StandardScalerWrapper LassoLars                0:02:38       0.0383    0.0264\n        11   RobustScaler DecisionTree                      0:02:14       0.0340    0.0264\n        10   MinMaxScaler DecisionTree                      0:01:41       0.0338    0.0264\n        15   StandardScalerWrapper DecisionTree             0:01:04       0.0345    0.0264\n        14   StandardScalerWrapper ElasticNet               0:00:58       0.0380    0.0264\n        13   StandardScalerWrapper ElasticNet               0:01:01       0.0387    0.0264\n        12   StandardScalerWrapper ElasticNet               0:01:40       0.0387    0.0264\n        19   StandardScalerWrapper RandomForest             0:01:07       0.0275    0.0264\n        18   StandardScalerWrapper ElasticNet               0:01:10       0.0383    0.0264\n        17   MinMaxScaler DecisionTree                      0:01:01       0.0377    0.0264\n        16   MaxAbsScaler DecisionTree                      0:01:01       0.0344    0.0264\n        23   RobustScaler LassoLars                         0:01:01       0.0386    0.0264\n        22   TruncatedSVDWrapper ElasticNet                 0:01:07       0.0386    0.0264\n        21   TruncatedSVDWrapper ElasticNet                 0:01:06       0.0376    0.0264\n        20   RobustScaler RandomForest                      0:01:05       0.0266    0.0264\n        27   MinMaxScaler ExtremeRandomTrees                0:01:04       0.0277    0.0264\n        26   StandardScalerWrapper ElasticNet               0:01:04       0.0388    0.0264\n        25   StandardScalerWrapper RandomForest             0:01:13       0.0304    0.0264\n        24   MaxAbsScaler RandomForest                      0:01:02       0.0351    0.0264\n        29    StackEnsemble                                 0:01:12       0.0261    0.0261\n        28    VotingEnsemble                                0:01:08       0.0246    0.0246\n\nExecution Summary\n=================\nRunId: AutoML_2c1fff4b-703f-4351-bc91-a81a2d203f92\n\nCPU times: user 1.53 s, sys: 252 ms, total: 1.78 s\nWall time: 1min 49s\n",
          "name": "stdout"
        },
        {
          "output_type": "execute_result",
          "execution_count": 10,
          "data": {
            "text/plain": "{'runId': 'AutoML_2c1fff4b-703f-4351-bc91-a81a2d203f92',\n 'target': 'cpucluster',\n 'status': 'Completed',\n 'startTimeUtc': '2019-09-27T04:26:26.679921Z',\n 'endTimeUtc': '2019-09-27T04:41:02.476043Z',\n 'properties': {'num_iterations': '30',\n  'training_type': 'TrainFull',\n  'acquisition_function': 'EI',\n  'primary_metric': 'normalized_mean_absolute_error',\n  'train_split': '0',\n  'MaxTimeSeconds': '600',\n  'acquisition_parameter': '0',\n  'num_cross_validation': '3',\n  'target': 'cpucluster',\n  'RawAMLSettingsString': \"{'name': 'Heatstroke_patient_prediction', 'path': './sample_projects/Heatstroke_patient_prediction', 'subscription_id': 'f8e38435-13b5-4b97-96c4-39b3bc918c54', 'resource_group': 'data-hack', 'workspace_name': 'azmls', 'region': 'japaneast', 'compute_target': 'cpucluster', 'spark_service': None, 'iterations': 30, 'primary_metric': 'normalized_mean_absolute_error', 'task_type': 'regression', 'data_script': './sample_projects/Heatstroke_patient_prediction/get_data.py', 'validation_size': 0.0, 'n_cross_validations': 3, 'y_min': None, 'y_max': None, 'num_classes': None, 'preprocess': True, 'lag_length': 0, 'is_timeseries': False, 'max_cores_per_iteration': 1, 'max_concurrent_iterations': 4, 'iteration_timeout_minutes': 10, 'mem_in_mb': None, 'enforce_time_on_windows': False, 'experiment_timeout_minutes': None, 'experiment_exit_score': 0, 'whitelist_models': None, 'blacklist_algos': ['XGBoostRegressor', 'XGBoostRegressor'], 'auto_blacklist': True, 'blacklist_samples_reached': False, 'exclude_nan_labels': True, 'verbosity': 20, 'debug_log': 'automated_ml_errors.log', 'show_warnings': False, 'model_explainability': False, 'service_url': None, 'sdk_url': None, 'sdk_packages': None, 'enable_onnx_compatible_models': False, 'enable_feature_sweeping': True, 'telemetry_verbosity': 'INFO', 'send_telemetry': True, 'enable_early_stopping': False, 'early_stopping_n_iters': 10, 'metrics': None, 'enable_ensembling': True, 'enable_stack_ensembling': True, 'ensemble_iterations': 15, 'enable_tf': False, 'enable_cache': True, 'enable_subsampling': False, 'subsample_seed': None, 'enable_nimbusml': False, 'use_incremental_learning': False, 'cost_mode': 0, 'metric_operation': 'minimize'}\",\n  'AMLSettingsJsonString': '{\\n  \"name\": \"Heatstroke_patient_prediction\",\\n  \"path\": \"./sample_projects/Heatstroke_patient_prediction\",\\n  \"subscription_id\": \"f8e38435-13b5-4b97-96c4-39b3bc918c54\",\\n  \"resource_group\": \"data-hack\",\\n  \"workspace_name\": \"azmls\",\\n  \"region\": \"japaneast\",\\n  \"compute_target\": \"cpucluster\",\\n  \"spark_service\": null,\\n  \"iterations\": 30,\\n  \"primary_metric\": \"normalized_mean_absolute_error\",\\n  \"task_type\": \"regression\",\\n  \"data_script\": \"./sample_projects/Heatstroke_patient_prediction/get_data.py\",\\n  \"validation_size\": 0.0,\\n  \"n_cross_validations\": 3,\\n  \"y_min\": null,\\n  \"y_max\": null,\\n  \"num_classes\": null,\\n  \"preprocess\": true,\\n  \"lag_length\": 0,\\n  \"is_timeseries\": false,\\n  \"max_cores_per_iteration\": 1,\\n  \"max_concurrent_iterations\": 4,\\n  \"iteration_timeout_minutes\": 10,\\n  \"mem_in_mb\": null,\\n  \"enforce_time_on_windows\": false,\\n  \"experiment_timeout_minutes\": null,\\n  \"experiment_exit_score\": 0,\\n  \"whitelist_models\": null,\\n  \"blacklist_algos\": [\\n    \"XGBoostRegressor\",\\n    \"XGBoostRegressor\"\\n  ],\\n  \"auto_blacklist\": true,\\n  \"blacklist_samples_reached\": false,\\n  \"exclude_nan_labels\": true,\\n  \"verbosity\": 20,\\n  \"debug_log\": \"automated_ml_errors.log\",\\n  \"show_warnings\": false,\\n  \"model_explainability\": false,\\n  \"service_url\": null,\\n  \"sdk_url\": null,\\n  \"sdk_packages\": null,\\n  \"enable_onnx_compatible_models\": false,\\n  \"enable_feature_sweeping\": true,\\n  \"telemetry_verbosity\": \"INFO\",\\n  \"send_telemetry\": true,\\n  \"enable_early_stopping\": false,\\n  \"early_stopping_n_iters\": 10,\\n  \"metrics\": null,\\n  \"enable_ensembling\": true,\\n  \"enable_stack_ensembling\": true,\\n  \"ensemble_iterations\": 15,\\n  \"enable_tf\": false,\\n  \"enable_cache\": true,\\n  \"enable_subsampling\": false,\\n  \"subsample_seed\": null,\\n  \"enable_nimbusml\": false,\\n  \"use_incremental_learning\": false,\\n  \"cost_mode\": 0,\\n  \"metric_operation\": \"minimize\"\\n}',\n  'DataPrepJsonString': None,\n  'EnableSubsampling': 'False',\n  'runTemplate': 'AutoML',\n  'azureml.runsource': 'automl',\n  'display_task_type': 'regression',\n  'dependencies_versions': '{\"azureml-widgets\": \"1.0.57\", \"azureml-train\": \"1.0.57\", \"azureml-train-restclients-hyperdrive\": \"1.0.57\", \"azureml-train-core\": \"1.0.57\", \"azureml-train-automl\": \"1.0.57\", \"azureml-telemetry\": \"1.0.57\", \"azureml-sdk\": \"1.0.57\", \"azureml-pipeline\": \"1.0.57\", \"azureml-pipeline-steps\": \"1.0.57\", \"azureml-pipeline-core\": \"1.0.57\", \"azureml-opendatasets\": \"1.0.57\", \"azureml-explain-model\": \"1.0.57\", \"azureml-dataprep\": \"1.1.12\", \"azureml-dataprep-native\": \"13.0.2\", \"azureml-core\": \"1.0.57\", \"azureml-contrib-notebook\": \"1.0.57\", \"azureml-automl-core\": \"1.0.57\"}',\n  'ContentSnapshotId': 'dde4a477-c6fd-40d6-a835-467939b79739',\n  'snapshotId': 'dde4a477-c6fd-40d6-a835-467939b79739',\n  'azureml.git.repository_uri': 'https://github.com/mimocihz/heatstroke_patient_prediction',\n  'mlflow.source.git.repoURL': 'https://github.com/mimocihz/heatstroke_patient_prediction',\n  'azureml.git.branch': 'master',\n  'mlflow.source.git.branch': 'master',\n  'azureml.git.commit': '78da0d5b2778a2ab98d53f0773ef35f523ee26d4',\n  'mlflow.source.git.commit': '78da0d5b2778a2ab98d53f0773ef35f523ee26d4',\n  'azureml.git.dirty': 'True',\n  'SetupRunId': 'AutoML_2c1fff4b-703f-4351-bc91-a81a2d203f92_setup',\n  'ProblemInfoJsonString': '{\"dataset_num_categorical\": 0, \"is_sparse\": false, \"subsampling\": false, \"dataset_classes\": 152, \"dataset_features\": 37, \"dataset_samples\": 1207}'},\n 'logFiles': {}}"
          },
          "metadata": {}
        }
      ]
    },
    {
      "metadata": {
        "trusted": true
      },
      "cell_type": "code",
      "source": "children = list(run_automl.get_children())\nmetricslist = {}\nfor run in children:\n    properties = run.get_properties()\n    metrics = {k: v for k, v in run.get_metrics().items() if isinstance(v, float)}\n    metricslist[int(properties['iteration'])] = metrics\n\nrundata = pd.DataFrame(metricslist).sort_index(1)\nrundata",
      "execution_count": 11,
      "outputs": [
        {
          "output_type": "execute_result",
          "execution_count": 11,
          "data": {
            "text/html": "<div>\n<style scoped>\n    .dataframe tbody tr th:only-of-type {\n        vertical-align: middle;\n    }\n\n    .dataframe tbody tr th {\n        vertical-align: top;\n    }\n\n    .dataframe thead th {\n        text-align: right;\n    }\n</style>\n<table border=\"1\" class=\"dataframe\">\n  <thead>\n    <tr style=\"text-align: right;\">\n      <th></th>\n      <th>0</th>\n      <th>1</th>\n      <th>2</th>\n      <th>3</th>\n      <th>4</th>\n      <th>5</th>\n      <th>6</th>\n      <th>7</th>\n      <th>8</th>\n      <th>9</th>\n      <th>...</th>\n      <th>20</th>\n      <th>21</th>\n      <th>22</th>\n      <th>23</th>\n      <th>24</th>\n      <th>25</th>\n      <th>26</th>\n      <th>27</th>\n      <th>28</th>\n      <th>29</th>\n    </tr>\n  </thead>\n  <tbody>\n    <tr>\n      <th>explained_variance</th>\n      <td>0.80</td>\n      <td>0.79</td>\n      <td>0.75</td>\n      <td>0.86</td>\n      <td>0.77</td>\n      <td>0.81</td>\n      <td>0.83</td>\n      <td>0.87</td>\n      <td>0.79</td>\n      <td>0.74</td>\n      <td>...</td>\n      <td>0.86</td>\n      <td>0.80</td>\n      <td>0.79</td>\n      <td>0.79</td>\n      <td>0.76</td>\n      <td>0.82</td>\n      <td>0.78</td>\n      <td>0.85</td>\n      <td>0.88</td>\n      <td>0.88</td>\n    </tr>\n    <tr>\n      <th>mean_absolute_error</th>\n      <td>11.37</td>\n      <td>11.76</td>\n      <td>10.87</td>\n      <td>8.22</td>\n      <td>9.96</td>\n      <td>9.44</td>\n      <td>10.82</td>\n      <td>8.00</td>\n      <td>11.61</td>\n      <td>10.74</td>\n      <td>...</td>\n      <td>8.05</td>\n      <td>11.39</td>\n      <td>11.70</td>\n      <td>11.70</td>\n      <td>10.63</td>\n      <td>9.20</td>\n      <td>11.76</td>\n      <td>8.40</td>\n      <td>7.47</td>\n      <td>7.91</td>\n    </tr>\n    <tr>\n      <th>mean_absolute_percentage_error</th>\n      <td>176.84</td>\n      <td>179.92</td>\n      <td>98.58</td>\n      <td>65.51</td>\n      <td>71.30</td>\n      <td>71.42</td>\n      <td>165.89</td>\n      <td>61.33</td>\n      <td>173.47</td>\n      <td>79.33</td>\n      <td>...</td>\n      <td>61.91</td>\n      <td>177.38</td>\n      <td>181.74</td>\n      <td>178.50</td>\n      <td>92.58</td>\n      <td>72.58</td>\n      <td>170.77</td>\n      <td>69.55</td>\n      <td>61.26</td>\n      <td>75.67</td>\n    </tr>\n    <tr>\n      <th>median_absolute_error</th>\n      <td>7.88</td>\n      <td>8.17</td>\n      <td>5.07</td>\n      <td>3.63</td>\n      <td>4.10</td>\n      <td>4.01</td>\n      <td>7.47</td>\n      <td>3.54</td>\n      <td>7.80</td>\n      <td>4.42</td>\n      <td>...</td>\n      <td>3.48</td>\n      <td>7.99</td>\n      <td>8.01</td>\n      <td>8.14</td>\n      <td>4.63</td>\n      <td>4.03</td>\n      <td>8.04</td>\n      <td>3.75</td>\n      <td>3.20</td>\n      <td>3.81</td>\n    </tr>\n    <tr>\n      <th>normalized_mean_absolute_error</th>\n      <td>0.04</td>\n      <td>0.04</td>\n      <td>0.04</td>\n      <td>0.03</td>\n      <td>0.03</td>\n      <td>0.03</td>\n      <td>0.04</td>\n      <td>0.03</td>\n      <td>0.04</td>\n      <td>0.04</td>\n      <td>...</td>\n      <td>0.03</td>\n      <td>0.04</td>\n      <td>0.04</td>\n      <td>0.04</td>\n      <td>0.04</td>\n      <td>0.03</td>\n      <td>0.04</td>\n      <td>0.03</td>\n      <td>0.02</td>\n      <td>0.03</td>\n    </tr>\n    <tr>\n      <th>normalized_median_absolute_error</th>\n      <td>0.03</td>\n      <td>0.03</td>\n      <td>0.02</td>\n      <td>0.01</td>\n      <td>0.01</td>\n      <td>0.01</td>\n      <td>0.02</td>\n      <td>0.01</td>\n      <td>0.03</td>\n      <td>0.01</td>\n      <td>...</td>\n      <td>0.01</td>\n      <td>0.03</td>\n      <td>0.03</td>\n      <td>0.03</td>\n      <td>0.02</td>\n      <td>0.01</td>\n      <td>0.03</td>\n      <td>0.01</td>\n      <td>0.01</td>\n      <td>0.01</td>\n    </tr>\n    <tr>\n      <th>normalized_root_mean_squared_error</th>\n      <td>0.06</td>\n      <td>0.06</td>\n      <td>0.07</td>\n      <td>0.05</td>\n      <td>0.06</td>\n      <td>0.06</td>\n      <td>0.05</td>\n      <td>0.05</td>\n      <td>0.06</td>\n      <td>0.07</td>\n      <td>...</td>\n      <td>0.05</td>\n      <td>0.06</td>\n      <td>0.06</td>\n      <td>0.06</td>\n      <td>0.06</td>\n      <td>0.06</td>\n      <td>0.06</td>\n      <td>0.05</td>\n      <td>0.05</td>\n      <td>0.05</td>\n    </tr>\n    <tr>\n      <th>normalized_root_mean_squared_log_error</th>\n      <td>nan</td>\n      <td>nan</td>\n      <td>0.13</td>\n      <td>0.11</td>\n      <td>0.12</td>\n      <td>0.11</td>\n      <td>nan</td>\n      <td>0.10</td>\n      <td>nan</td>\n      <td>0.13</td>\n      <td>...</td>\n      <td>0.10</td>\n      <td>nan</td>\n      <td>nan</td>\n      <td>nan</td>\n      <td>0.13</td>\n      <td>0.11</td>\n      <td>nan</td>\n      <td>0.11</td>\n      <td>nan</td>\n      <td>nan</td>\n    </tr>\n    <tr>\n      <th>r2_score</th>\n      <td>0.80</td>\n      <td>0.79</td>\n      <td>0.75</td>\n      <td>0.86</td>\n      <td>0.77</td>\n      <td>0.81</td>\n      <td>0.83</td>\n      <td>0.87</td>\n      <td>0.79</td>\n      <td>0.74</td>\n      <td>...</td>\n      <td>0.86</td>\n      <td>0.80</td>\n      <td>0.79</td>\n      <td>0.79</td>\n      <td>0.76</td>\n      <td>0.82</td>\n      <td>0.78</td>\n      <td>0.85</td>\n      <td>0.88</td>\n      <td>0.88</td>\n    </tr>\n    <tr>\n      <th>root_mean_squared_error</th>\n      <td>17.65</td>\n      <td>18.27</td>\n      <td>20.10</td>\n      <td>15.02</td>\n      <td>18.90</td>\n      <td>17.29</td>\n      <td>16.52</td>\n      <td>14.61</td>\n      <td>18.22</td>\n      <td>19.74</td>\n      <td>...</td>\n      <td>14.72</td>\n      <td>17.68</td>\n      <td>18.22</td>\n      <td>18.21</td>\n      <td>19.67</td>\n      <td>16.97</td>\n      <td>18.59</td>\n      <td>15.31</td>\n      <td>13.90</td>\n      <td>14.00</td>\n    </tr>\n    <tr>\n      <th>root_mean_squared_log_error</th>\n      <td>nan</td>\n      <td>nan</td>\n      <td>0.76</td>\n      <td>0.60</td>\n      <td>0.67</td>\n      <td>0.65</td>\n      <td>nan</td>\n      <td>0.58</td>\n      <td>nan</td>\n      <td>0.72</td>\n      <td>...</td>\n      <td>0.58</td>\n      <td>nan</td>\n      <td>nan</td>\n      <td>nan</td>\n      <td>0.73</td>\n      <td>0.64</td>\n      <td>nan</td>\n      <td>0.62</td>\n      <td>nan</td>\n      <td>nan</td>\n    </tr>\n    <tr>\n      <th>spearman_correlation</th>\n      <td>0.91</td>\n      <td>0.91</td>\n      <td>0.90</td>\n      <td>0.92</td>\n      <td>0.90</td>\n      <td>0.90</td>\n      <td>0.90</td>\n      <td>0.93</td>\n      <td>0.91</td>\n      <td>0.88</td>\n      <td>...</td>\n      <td>0.93</td>\n      <td>0.91</td>\n      <td>0.91</td>\n      <td>0.91</td>\n      <td>0.90</td>\n      <td>0.92</td>\n      <td>0.92</td>\n      <td>0.93</td>\n      <td>0.93</td>\n      <td>0.93</td>\n    </tr>\n  </tbody>\n</table>\n<p>12 rows × 30 columns</p>\n</div>",
            "text/plain": "                                            0      1     2     3     4     5  \\\nexplained_variance                     0.80   0.79   0.75  0.86  0.77  0.81    \nmean_absolute_error                    11.37  11.76  10.87 8.22  9.96  9.44    \nmean_absolute_percentage_error         176.84 179.92 98.58 65.51 71.30 71.42   \nmedian_absolute_error                  7.88   8.17   5.07  3.63  4.10  4.01    \nnormalized_mean_absolute_error         0.04   0.04   0.04  0.03  0.03  0.03    \nnormalized_median_absolute_error       0.03   0.03   0.02  0.01  0.01  0.01    \nnormalized_root_mean_squared_error     0.06   0.06   0.07  0.05  0.06  0.06    \nnormalized_root_mean_squared_log_error nan    nan    0.13  0.11  0.12  0.11    \nr2_score                               0.80   0.79   0.75  0.86  0.77  0.81    \nroot_mean_squared_error                17.65  18.27  20.10 15.02 18.90 17.29   \nroot_mean_squared_log_error            nan    nan    0.76  0.60  0.67  0.65    \nspearman_correlation                   0.91   0.91   0.90  0.92  0.90  0.90    \n\n                                            6     7      8     9  ...     20  \\\nexplained_variance                     0.83   0.87  0.79   0.74   ...  0.86    \nmean_absolute_error                    10.82  8.00  11.61  10.74  ...  8.05    \nmean_absolute_percentage_error         165.89 61.33 173.47 79.33  ...  61.91   \nmedian_absolute_error                  7.47   3.54  7.80   4.42   ...  3.48    \nnormalized_mean_absolute_error         0.04   0.03  0.04   0.04   ...  0.03    \nnormalized_median_absolute_error       0.02   0.01  0.03   0.01   ...  0.01    \nnormalized_root_mean_squared_error     0.05   0.05  0.06   0.07   ...  0.05    \nnormalized_root_mean_squared_log_error nan    0.10  nan    0.13   ...  0.10    \nr2_score                               0.83   0.87  0.79   0.74   ...  0.86    \nroot_mean_squared_error                16.52  14.61 18.22  19.74  ...  14.72   \nroot_mean_squared_log_error            nan    0.58  nan    0.72   ...  0.58    \nspearman_correlation                   0.90   0.93  0.91   0.88   ...  0.93    \n\n                                           21     22     23    24    25  \\\nexplained_variance                     0.80   0.79   0.79   0.76  0.82    \nmean_absolute_error                    11.39  11.70  11.70  10.63 9.20    \nmean_absolute_percentage_error         177.38 181.74 178.50 92.58 72.58   \nmedian_absolute_error                  7.99   8.01   8.14   4.63  4.03    \nnormalized_mean_absolute_error         0.04   0.04   0.04   0.04  0.03    \nnormalized_median_absolute_error       0.03   0.03   0.03   0.02  0.01    \nnormalized_root_mean_squared_error     0.06   0.06   0.06   0.06  0.06    \nnormalized_root_mean_squared_log_error nan    nan    nan    0.13  0.11    \nr2_score                               0.80   0.79   0.79   0.76  0.82    \nroot_mean_squared_error                17.68  18.22  18.21  19.67 16.97   \nroot_mean_squared_log_error            nan    nan    nan    0.73  0.64    \nspearman_correlation                   0.91   0.91   0.91   0.90  0.92    \n\n                                           26    27    28    29  \nexplained_variance                     0.78   0.85  0.88  0.88   \nmean_absolute_error                    11.76  8.40  7.47  7.91   \nmean_absolute_percentage_error         170.77 69.55 61.26 75.67  \nmedian_absolute_error                  8.04   3.75  3.20  3.81   \nnormalized_mean_absolute_error         0.04   0.03  0.02  0.03   \nnormalized_median_absolute_error       0.03   0.01  0.01  0.01   \nnormalized_root_mean_squared_error     0.06   0.05  0.05  0.05   \nnormalized_root_mean_squared_log_error nan    0.11  nan   nan    \nr2_score                               0.78   0.85  0.88  0.88   \nroot_mean_squared_error                18.59  15.31 13.90 14.00  \nroot_mean_squared_log_error            nan    0.62  nan   nan    \nspearman_correlation                   0.92   0.93  0.93  0.93   \n\n[12 rows x 30 columns]"
          },
          "metadata": {}
        }
      ]
    },
    {
      "metadata": {},
      "cell_type": "markdown",
      "source": "## 5. 学習済みモデルの登録"
    },
    {
      "metadata": {
        "trusted": true
      },
      "cell_type": "code",
      "source": "best_run, fitted_model = run_automl.get_output()\nprint(best_run)\nprint(fitted_model)",
      "execution_count": 12,
      "outputs": [
        {
          "output_type": "stream",
          "text": "Run(Experiment: Heatstroke_patient_prediction,\nId: AutoML_2c1fff4b-703f-4351-bc91-a81a2d203f92_28,\nType: azureml.scriptrun,\nStatus: Completed)\nRegressionPipeline(pipeline=Pipeline(memory=None,\n     steps=[('datatransformer', DataTransformer(enable_feature_sweeping=None, feature_sweeping_timeout=None,\n        is_onnx_compatible=None, logger=None, observer=None, task=None)), ('prefittedsoftvotingregressor', PreFittedSoftVotingRegressor(estimators=[('7', Pipeline(memory=None,\n     steps=[('minmax...333333333333, 0.06666666666666667, 0.13333333333333333, 0.06666666666666667, 0.06666666666666667]))]),\n          stddev=None)\n",
          "name": "stdout"
        }
      ]
    },
    {
      "metadata": {
        "trusted": true
      },
      "cell_type": "code",
      "source": "description = 'Heatstroke patient prediction Model'\nname = \"heatstroke_model\"\nmodel = best_run.register_model(model_name=name, description=description, model_path = \"outputs/model.pkl\")\nprint(model.name, model.id, model.version, sep='\\t')",
      "execution_count": 14,
      "outputs": [
        {
          "output_type": "stream",
          "text": "heatstroke_model\theatstroke_model:3\t3\n",
          "name": "stdout"
        }
      ]
    }
  ],
  "metadata": {
    "kernelspec": {
      "name": "python36",
      "display_name": "Python 3.6",
      "language": "python"
    },
    "language_info": {
      "mimetype": "text/x-python",
      "nbconvert_exporter": "python",
      "name": "python",
      "pygments_lexer": "ipython3",
      "version": "3.6.6",
      "file_extension": ".py",
      "codemirror_mode": {
        "version": 3,
        "name": "ipython"
      }
    }
  },
  "nbformat": 4,
  "nbformat_minor": 2
}