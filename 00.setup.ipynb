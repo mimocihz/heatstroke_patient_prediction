{
  "cells": [
    {
      "metadata": {
        "collapsed": true
      },
      "cell_type": "markdown",
      "source": "# 熱中症患者数予測\n#### 気象データから熱中症患者数を予測する回帰モデルを作成する"
    },
    {
      "metadata": {},
      "cell_type": "markdown",
      "source": "### 00.setup.ipynb\nAzure Machine Learning Serviceの設定"
    },
    {
      "metadata": {},
      "cell_type": "markdown",
      "source": "## 1. Azure ML Serviceのワークスペースとの準備・連携"
    },
    {
      "metadata": {},
      "cell_type": "markdown",
      "source": "### Azure ML SDKのバージョンの確認"
    },
    {
      "metadata": {
        "trusted": true
      },
      "cell_type": "code",
      "source": "import azureml\nfrom azureml.core import Workspace, Run\n\nprint(\"Azure ML SDK Version: \", azureml.core.VERSION)",
      "execution_count": 2,
      "outputs": [
        {
          "output_type": "stream",
          "text": "Azure ML SDK Version:  1.0.57\n",
          "name": "stdout"
        }
      ]
    },
    {
      "metadata": {},
      "cell_type": "markdown",
      "source": "### `config.json`を読み込みAzure ML Serviceのワークスペース情報を取得\n※事前にconfing.jsonを編集しておく。"
    },
    {
      "metadata": {
        "trusted": true
      },
      "cell_type": "code",
      "source": "ws = Workspace.from_config()\nprint(ws.name, ws.location, ws.resource_group, ws.location, sep = '\\t')",
      "execution_count": 4,
      "outputs": [
        {
          "output_type": "stream",
          "text": "azmls\tjapaneast\tdata-hack\tjapaneast\n",
          "name": "stdout"
        }
      ]
    },
    {
      "metadata": {
        "trusted": true
      },
      "cell_type": "code",
      "source": "from azureml.core import Experiment\nimport os\nimport pandas as pd\n\nexperiment_name = 'Heatstroke_patient_prediction'\nexp = Experiment(workspace=ws, name=experiment_name)\n\nproject_folder = './sample_projects/Heatstroke_patient_prediction'\noutput = {}\noutput['SDK version'] = azureml.core.VERSION\noutput['Subscription ID'] = ws.subscription_id\noutput['Workspace Name'] = ws.name\noutput['Resource Group'] = ws.resource_group\noutput['Location'] = ws.location\noutput['Project Directory'] = project_folder\noutput['Experiment Name'] = exp.name\npd.set_option('display.max_colwidth', -1)\noutputDf = pd.DataFrame(data = output, index = [''])\noutputDf.T",
      "execution_count": 5,
      "outputs": [
        {
          "output_type": "execute_result",
          "execution_count": 5,
          "data": {
            "text/html": "<div>\n<style scoped>\n    .dataframe tbody tr th:only-of-type {\n        vertical-align: middle;\n    }\n\n    .dataframe tbody tr th {\n        vertical-align: top;\n    }\n\n    .dataframe thead th {\n        text-align: right;\n    }\n</style>\n<table border=\"1\" class=\"dataframe\">\n  <thead>\n    <tr style=\"text-align: right;\">\n      <th></th>\n      <th></th>\n    </tr>\n  </thead>\n  <tbody>\n    <tr>\n      <th>SDK version</th>\n      <td>1.0.57</td>\n    </tr>\n    <tr>\n      <th>Subscription ID</th>\n      <td>f8e38435-13b5-4b97-96c4-39b3bc918c54</td>\n    </tr>\n    <tr>\n      <th>Workspace Name</th>\n      <td>azmls</td>\n    </tr>\n    <tr>\n      <th>Resource Group</th>\n      <td>data-hack</td>\n    </tr>\n    <tr>\n      <th>Location</th>\n      <td>japaneast</td>\n    </tr>\n    <tr>\n      <th>Project Directory</th>\n      <td>./sample_projects/Heatstroke_patient_prediction</td>\n    </tr>\n    <tr>\n      <th>Experiment Name</th>\n      <td>Heatstroke_patient_prediction</td>\n    </tr>\n  </tbody>\n</table>\n</div>",
            "text/plain": "                                                                  \nSDK version        1.0.57                                         \nSubscription ID    f8e38435-13b5-4b97-96c4-39b3bc918c54           \nWorkspace Name     azmls                                          \nResource Group     data-hack                                      \nLocation           japaneast                                      \nProject Directory  ./sample_projects/Heatstroke_patient_prediction\nExperiment Name    Heatstroke_patient_prediction                  "
          },
          "metadata": {}
        }
      ]
    },
    {
      "metadata": {},
      "cell_type": "markdown",
      "source": "### ↑ここまでの処理でエラーが出ていた場合、次章の `01.training.ipynb`はうまく動作しない。"
    }
  ],
  "metadata": {
    "kernelspec": {
      "name": "python36",
      "display_name": "Python 3.6",
      "language": "python"
    },
    "language_info": {
      "mimetype": "text/x-python",
      "nbconvert_exporter": "python",
      "name": "python",
      "pygments_lexer": "ipython3",
      "version": "3.6.6",
      "file_extension": ".py",
      "codemirror_mode": {
        "version": 3,
        "name": "ipython"
      }
    }
  },
  "nbformat": 4,
  "nbformat_minor": 2
}