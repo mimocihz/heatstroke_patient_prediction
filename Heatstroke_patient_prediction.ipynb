{
  "cells": [
    {
      "metadata": {},
      "cell_type": "markdown",
      "source": "# 熱中症患者数予測\n#### 気象データから熱中症患者数を予測する回帰モデルを作成する"
    },
    {
      "metadata": {},
      "cell_type": "markdown",
      "source": "## Azure ML Service用の準備"
    },
    {
      "metadata": {
        "trusted": true
      },
      "cell_type": "code",
      "source": "import azureml\nfrom azureml.core import Workspace, Run\n\n# check core SDK version number\nprint(\"Azure ML SDK Version: \", azureml.core.VERSION)",
      "execution_count": null,
      "outputs": []
    },
    {
      "metadata": {
        "trusted": true,
        "scrolled": false
      },
      "cell_type": "code",
      "source": "# load workspace configuration from the config.json file in the current folder.\nws = Workspace.from_config()\nprint(ws.name, ws.location, ws.resource_group, ws.location, sep = '\\t')",
      "execution_count": null,
      "outputs": []
    },
    {
      "metadata": {
        "trusted": true
      },
      "cell_type": "code",
      "source": "experiment_name = 'Heatstroke_patient_prediction'\n\nfrom azureml.core import Experiment\nexp = Experiment(workspace=ws, name=experiment_name)\n\nimport pandas as pd\n\nproject_folder = './sample_projects/Heatstroke_patient_prediction'\noutput = {}\noutput['SDK version'] = azureml.core.VERSION\noutput['Subscription ID'] = ws.subscription_id\noutput['Workspace Name'] = ws.name\noutput['Resource Group'] = ws.resource_group\noutput['Location'] = ws.location\noutput['Project Directory'] = project_folder\noutput['Experiment Name'] = exp.name\npd.set_option('display.max_colwidth', -1)\noutputDf = pd.DataFrame(data = output, index = [''])\noutputDf.T",
      "execution_count": null,
      "outputs": []
    },
    {
      "metadata": {},
      "cell_type": "markdown",
      "source": "## トレーニング用データをストレージにアップロード"
    },
    {
      "metadata": {
        "trusted": true,
        "scrolled": true
      },
      "cell_type": "code",
      "source": "import pandas as pd\ndf = pd.read_csv('./data/Heatstroke_patient_prediction_train_data.csv')",
      "execution_count": null,
      "outputs": []
    },
    {
      "metadata": {
        "trusted": true,
        "scrolled": true
      },
      "cell_type": "code",
      "source": "df.head(10)",
      "execution_count": null,
      "outputs": []
    },
    {
      "metadata": {
        "trusted": true
      },
      "cell_type": "code",
      "source": "# get the default datastore\nds = ws.get_default_datastore()\nprint(ds.name, ds.datastore_type, ds.account_name, ds.container_name)",
      "execution_count": null,
      "outputs": []
    },
    {
      "metadata": {
        "trusted": true,
        "scrolled": false
      },
      "cell_type": "code",
      "source": "ds.upload_files(['./data/Heatstroke_patient_prediction_train_data.csv'],overwrite=True)",
      "execution_count": null,
      "outputs": []
    },
    {
      "metadata": {},
      "cell_type": "markdown",
      "source": "## トレーニング実行用の ML Compute 作成"
    },
    {
      "metadata": {
        "trusted": true
      },
      "cell_type": "code",
      "source": "from azureml.core.compute import ComputeTarget, AmlCompute\nfrom azureml.core.compute_target import ComputeTargetException\n\n# Choose a name for your GPU cluster\ncluster_name = \"cpucluster\"\n\n# Verify that cluster does not exist already\ntry:\n    cluster = ComputeTarget(workspace=ws, name=cluster_name)\n    print('Found existing cluster, use it.')\nexcept ComputeTargetException:\n    compute_config = AmlCompute.provisioning_configuration(vm_size='STANDARD_D4_V2', #'Standard_NC6'\n                                                           min_nodes=0,\n                                                           max_nodes=8)\n    cluster = ComputeTarget.create(ws, cluster_name, compute_config)\n\ncluster.wait_for_completion(show_output=True)",
      "execution_count": null,
      "outputs": []
    },
    {
      "metadata": {
        "trusted": true
      },
      "cell_type": "markdown",
      "source": "## Automated ML 機能を使って予測モデル作成"
    },
    {
      "metadata": {
        "trusted": true
      },
      "cell_type": "code",
      "source": "import os\nos.makedirs(project_folder, exist_ok=True)",
      "execution_count": null,
      "outputs": []
    },
    {
      "metadata": {},
      "cell_type": "markdown",
      "source": "### モデル学習用スクリプト作成"
    },
    {
      "metadata": {
        "trusted": true
      },
      "cell_type": "code",
      "source": "%%writefile $project_folder/get_data.py\n\nimport numpy as np\nfrom azure.storage.blob import BlockBlobService\nimport pandas as pd\nimport os.path\n\ndef get_data():\n    file_name = \"Heatstroke_patient_prediction_train_data.csv\"\n    if not os.path.exists('./' + file_name) :\n        account_name='<ストレージアカウント名>'\n        account_key='<ストレージアカウントキー>'\n        container_name='<コンテナ名>'\n        blob_name=file_name\n        \n        service = BlockBlobService(account_name=account_name, account_key=account_key)\n        service.get_blob_to_path(container_name, blob_name, file_name)\n    \n    df = pd.read_csv('./' + file_name)\n    X_train = df.drop(columns=[\"年月日\",\"年\",\"月\",\"搬送人員（計）\"],axis=1)\n    y_df = df[\"搬送人員（計）\"]\n    y_train = y_df.values\n\n    return { \"X\" : X_train, \"y\" : y_train }",
      "execution_count": null,
      "outputs": []
    },
    {
      "metadata": {},
      "cell_type": "markdown",
      "source": "### モデル学習実行環境定義"
    },
    {
      "metadata": {
        "trusted": true
      },
      "cell_type": "code",
      "source": "from azureml.core.runconfig import RunConfiguration\nfrom azureml.core.conda_dependencies import CondaDependencies\n\n# create a new RunConfig object\nrun_config = RunConfiguration(framework=\"python\")\n\n# Set compute target to AmlCompute target created in previous step\nrun_config.target = cluster.name\n\n# enable Docker \nrun_config.environment.docker.enabled = True\nrun_config.environment.docker.base_image = azureml.core.runconfig.DEFAULT_CPU_IMAGE\n\n# specify CondaDependencies obj\nrun_config.environment.python.conda_dependencies = CondaDependencies.create(\n    conda_packages=['numpy','pandas'], \n    pip_packages=['azureml-sdk[automl]', 'azure-storage'])",
      "execution_count": null,
      "outputs": []
    },
    {
      "metadata": {},
      "cell_type": "markdown",
      "source": "### automated ML 実行"
    },
    {
      "metadata": {
        "trusted": true
      },
      "cell_type": "code",
      "source": "from azureml.train.automl import AutoMLConfig\nimport logging\n\nautomated_ml_config = AutoMLConfig(task = 'regression',\n                             primary_metric = 'normalized_mean_absolute_error',\n                             iteration_timeout_minutes = 10,\n                             iterations = 30,\n                             preprocess = True,\n                             verbosity = logging.INFO,\n                             experiment_exit_score = 0,\n                             path = project_folder,\n                             data_script = project_folder + \"/get_data.py\",\n                             run_configuration=run_config,\n                             debug_log = 'automated_ml_errors.log',\n                             n_cross_validations = 3,\n                             max_concurrent_iterations = 4)",
      "execution_count": null,
      "outputs": []
    },
    {
      "metadata": {
        "trusted": true
      },
      "cell_type": "code",
      "source": "run_automl = exp.submit(automated_ml_config, show_output = False)\nrun_automl",
      "execution_count": null,
      "outputs": []
    },
    {
      "metadata": {
        "trusted": true,
        "scrolled": false
      },
      "cell_type": "code",
      "source": "from azureml.widgets import RunDetails\nRunDetails(run_automl).show()",
      "execution_count": null,
      "outputs": []
    },
    {
      "metadata": {
        "trusted": true
      },
      "cell_type": "code",
      "source": "%%time\n# Shows output of the run on stdout.\nrun_automl.wait_for_completion(show_output=True)",
      "execution_count": null,
      "outputs": []
    },
    {
      "metadata": {
        "trusted": true
      },
      "cell_type": "code",
      "source": "children = list(run_automl.get_children())\nmetricslist = {}\nfor run in children:\n    properties = run.get_properties()\n    metrics = {k: v for k, v in run.get_metrics().items() if isinstance(v, float)}\n    metricslist[int(properties['iteration'])] = metrics\n\nrundata = pd.DataFrame(metricslist).sort_index(1)\nrundata",
      "execution_count": null,
      "outputs": []
    },
    {
      "metadata": {
        "trusted": true
      },
      "cell_type": "markdown",
      "source": "## モデル登録"
    },
    {
      "metadata": {
        "trusted": true,
        "scrolled": true
      },
      "cell_type": "code",
      "source": "best_run, fitted_model = run_automl.get_output()\nprint(best_run)\nprint(fitted_model)",
      "execution_count": null,
      "outputs": []
    },
    {
      "metadata": {
        "trusted": true
      },
      "cell_type": "code",
      "source": "description = 'Heatstroke patient prediction Model'\ntags = None\nmodel = run_automl.register_model(description=description, tags=tags)\nprint(run_automl.model_id) # Use this id to deploy the model as a web service in Azure",
      "execution_count": null,
      "outputs": []
    }
  ],
  "metadata": {
    "kernelspec": {
      "name": "python36",
      "display_name": "Python 3.6",
      "language": "python"
    },
    "language_info": {
      "mimetype": "text/x-python",
      "nbconvert_exporter": "python",
      "name": "python",
      "pygments_lexer": "ipython3",
      "version": "3.6.6",
      "file_extension": ".py",
      "codemirror_mode": {
        "version": 3,
        "name": "ipython"
      }
    }
  },
  "nbformat": 4,
  "nbformat_minor": 2
}